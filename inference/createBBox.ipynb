{
 "cells": [
  {
   "cell_type": "code",
   "execution_count": 5,
   "metadata": {},
   "outputs": [],
   "source": [
    "import sys\n",
    "from IPython.display import HTML, clear_output\n",
    "from base64 import b64encode\n",
    "\n",
    "sys.path.append('/home/ec2-user/SageMaker/')\n",
    "\n",
    "import os\n",
    "from fsgan.inference.swap import FaceSwapping\n",
    "from fsgan.criterions.vgg_loss import VGGLoss\n",
    "\n",
    "#@markdown This step should only be done once unless one of the\n",
    "#@markdown following parameters is changed:\n",
    "\n",
    "#@markdown ---\n",
    "#@markdown Path to the weights directory (make sure it is correct):\n",
    "weights_dir = '/home/ec2-user/SageMaker/fsgan/weights/' #@param {type:\"string\"}\n",
    "#@markdown Number of finetune iterations on the source subject:\n",
    "finetune_iterations = 800 #@param {type:\"slider\", min:100, max:2000, step:1}\n",
    "#@markdown If True, the inner part of the mouth will be removed from the segmentation:\n",
    "seg_remove_mouth = True #@param {type:\"boolean\"}\n",
    "#@markdown ---\n",
    "\n",
    "\n",
    "detection_model = os.path.join(weights_dir, 'v2/WIDERFace_DSFD_RES152.pth')\n",
    "pose_model = os.path.join(weights_dir, 'shared/hopenet_robust_alpha1.pth')\n",
    "lms_model = os.path.join(weights_dir, 'v2/hr18_wflw_landmarks.pth')\n",
    "seg_model = os.path.join(weights_dir, 'v2/celeba_unet_256_1_2_segmentation_v2.pth')\n",
    "reenactment_model = os.path.join(weights_dir, 'v2/nfv_msrunet_256_1_2_reenactment_v2.1.pth')\n",
    "completion_model = os.path.join(weights_dir, 'v2/ijbc_msrunet_256_1_2_inpainting_v2.pth')\n",
    "blending_model = os.path.join(weights_dir, 'v2/ijbc_msrunet_256_1_2_blending_v2.pth')\n",
    "criterion_id_path = os.path.join(weights_dir, 'v2/vggface2_vgg19_256_1_2_id.pth')\n",
    "criterion_id = VGGLoss(criterion_id_path)"
   ]
  },
  {
   "cell_type": "code",
   "execution_count": 6,
   "metadata": {},
   "outputs": [],
   "source": [
    "import os\n",
    "import argparse\n",
    "import sys\n",
    "import pickle\n",
    "import matplotlib.pyplot as plt\n",
    "%matplotlib inline\n",
    "from tqdm import tqdm\n",
    "import numpy as np\n",
    "import cv2\n",
    "import torch\n",
    "import torch.nn as nn\n",
    "import torch.nn.functional as F\n",
    "import torch.optim as optim\n",
    "from torch.utils.data import RandomSampler, DataLoader\n",
    "from fsgan.preprocess.preprocess_video import VideoProcessBase, base_parser\n",
    "from fsgan.utils.obj_factory import obj_factory\n",
    "from fsgan.utils.utils import load_model\n",
    "from fsgan.utils.img_utils import bgr2tensor, tensor2bgr, create_pyramid\n",
    "from fsgan.utils.landmarks_utils import LandmarksHeatMapDecoder\n",
    "from fsgan.utils.seg_utils import blend_seg_label, SoftErosion\n",
    "from fsgan.datasets.img_lms_pose_transforms import RandomHorizontalFlip, Rotate, Pyramids, ToTensor, Normalize\n",
    "from fsgan.datasets import img_lms_pose_transforms\n",
    "from fsgan.datasets.seq_dataset import SeqInferenceDataset, SingleSeqRandomPairDataset\n",
    "from fsgan.datasets.appearance_map import AppearanceMapDataset\n",
    "from fsgan.utils.video_renderer import VideoRenderer\n",
    "from fsgan.utils.batch import main as batch\n",
    "from fsgan.preprocess.crop_image_sequences import main as crop_image_sequences_main\n",
    "from fsgan.preprocess.crop_video_sequences import main as crop_video_sequences_main\n",
    "from fsgan.preprocess.detections2sequences_center import main as detections2sequences_main\n",
    "\n",
    "import os\n",
    "import math\n",
    "import pickle\n",
    "from tqdm import tqdm\n",
    "import time\n",
    "import numpy as np\n",
    "import cv2\n",
    "import glob\n",
    "import torch\n",
    "import torch.nn as nn\n",
    "import pathlib\n",
    "# from face_ssd import build_ssd\n",
    "from face_detection_dsfd.face_ssd_infer import SSD\n",
    "from face_detection_dsfd.data import widerface_640, TestBaseTransform\n",
    "from face_detection_dsfd.layers.functions.detection import Detect\n",
    "import time"
   ]
  },
  {
   "cell_type": "code",
   "execution_count": 7,
   "metadata": {},
   "outputs": [],
   "source": [
    "def test_base_transform(image, mean):\n",
    "    #x = cv2.resize(image, (size, size)).astype(np.float32)\n",
    "    x = image.astype(np.float32)\n",
    "    x -= mean\n",
    "    x = x.astype(np.float32)\n",
    "    return x\n",
    "\n",
    "\n",
    "class TestBaseTransform:\n",
    "    def __init__(self, mean):\n",
    "        #self.size = size\n",
    "        self.mean = np.array(mean, dtype=np.float32)\n",
    "\n",
    "    def __call__(self, image, boxes=None, labels=None):\n",
    "        return test_base_transform(image, self.mean), boxes, labels\n",
    "\n",
    "\n",
    "\n",
    "class imageDataset(torch.utils.data.Dataset):\n",
    "    def __init__(self, dataset_path, transform=TestBaseTransform((104, 117, 123))):\n",
    "        self.transform = transform\n",
    "        self.dataset_path = dataset_path\n",
    "        self.image_list = glob.glob(os.path.join(dataset_path,'*'))\n",
    "        self.data_num = len(self.image_list)\n",
    "\n",
    "    def __len__(self):\n",
    "        return self.data_num\n",
    "\n",
    "    def __getitem__(self, idx):\n",
    "        path = self.image_list[idx]\n",
    "        img = cv2.imread(path)\n",
    "        img_tensor = torch.from_numpy(self.transform(img)[0]).permute(2, 0, 1)\n",
    "        \n",
    "        return img_tensor, img, path"
   ]
  },
  {
   "cell_type": "code",
   "execution_count": 8,
   "metadata": {},
   "outputs": [],
   "source": [
    "class imagesDetector(object):\n",
    "    def __init__(self,data_dir , out_postfix='_dsfd.pkl', detection_model_path='weights/WIDERFace_DSFD_RES152.pth',\n",
    "                 gpus=None, batch_size=1):\n",
    "#         super(imageDetector, self).__init__()\n",
    "        # assert torch.cuda.is_available(), 'CUDA must be available!'\n",
    "        self.out_postfix = out_postfix\n",
    "        self.batch_size = batch_size\n",
    "        \n",
    "        # initialize datsaset\n",
    "        self.dataset = imageDataset(dataset_path)\n",
    "        self.dataloader = torch.utils.data.DataLoader(self.dataset, batch_size=batch_size, shuffle=False)\n",
    "\n",
    "        # Set default tensor type\n",
    "        # torch.set_default_tensor_type('torch.cuda.FloatTensor')\n",
    "        \n",
    "        # Initialize configuration\n",
    "        self.cfg = widerface_640\n",
    "        self.thresh = self.cfg['conf_thresh']\n",
    "        \n",
    "        # Initialize device\n",
    "        torch.set_grad_enabled(False)\n",
    "        self.device, self.gpus = set_device(gpus, silence=True)\n",
    "\n",
    "        # Initialize detection model\n",
    "        self.net = SSD(\"test\").to(self.device)\n",
    "        self.net.load_state_dict(torch.load(detection_model_path))\n",
    "        self.net.eval()\n",
    "        \n",
    "        # Support multiple GPUs\n",
    "        if self.gpus and len(self.gpus) > 1:\n",
    "            self.net = nn.DataParallel(self.net, self.gpus)\n",
    "            \n",
    "        self.shrink = 1.0\n",
    "\n",
    "        # Reset default tensor type\n",
    "        # torch.set_default_tensor_type('torch.FloatTensor')\n",
    "\n",
    "    def __call__(self, input_path, output_dir,is_display=True):\n",
    "        # 出力パスの確認\n",
    "        print('output output_dir', output_dir)\n",
    "        \n",
    "        # デフォルトのテンソルタイプの指定\n",
    "        torch.set_default_tensor_type('torch.cuda.FloatTensor')\n",
    "        \n",
    "        # ディテクションとセーブ\n",
    "        for image_tensors, images, pathes in tqdm(self.dataloader):\n",
    "            image_tensors = image_tensors.to(self.device)\n",
    "            \n",
    "            # detection \n",
    "            st = time.time()\n",
    "            detections_batch = self.net(image_tensors)\n",
    "            print('detection time',time.time()-st)\n",
    "\n",
    "            for detections, img, path in zip(detections_batch,images,pathes):              \n",
    "                img = img.cpu().numpy()\n",
    "                detections = detections.unsqueeze(0)\n",
    "                image_size = (img.shape[0],img.shape[1])\n",
    "                output_path= os.path.join(output_dir, os.path.splitext(os.path.basename(path))[0])+'_bbox.pkl'\n",
    "                bbox_img_path= os.path.join(output_dir, os.path.splitext(os.path.basename(path))[0])+'_bbox.jpg'\n",
    "                \n",
    "                det = []\n",
    "                shrink = self.shrink \n",
    "                scale = torch.Tensor([image_size[1] / shrink, image_size[0] / shrink,\n",
    "                                      image_size[1] / shrink, image_size[0] / shrink])\n",
    "                \n",
    "                # スケール変換？\n",
    "                for i in range(detections.size(1)):\n",
    "                    j = 0\n",
    "                    while detections[0, i, j, 0] >= self.thresh:\n",
    "                        curr_det = detections[0, i, j, [1, 2, 3, 4, 0]].cpu().numpy()\n",
    "                        curr_det[:4] *= scale.cpu().numpy()\n",
    "\n",
    "                        det.append(curr_det)\n",
    "                        j += 1\n",
    "\n",
    "                # もし検出されれば\n",
    "                if len(det) == 0:\n",
    "                    det_list.append(np.array([], dtype='float32'))\n",
    "                else:\n",
    "                    det = np.row_stack((det))\n",
    "                    det_filtered = np.array(det[det[:, 4] > 0.5, :4])\n",
    "    \n",
    "\n",
    "                # 表示\n",
    "                if is_display == True:\n",
    "                    img = np.ascontiguousarray(img)\n",
    "                    det_display = np.round(det_filtered).astype(int)\n",
    "                    for rect in det_display:\n",
    "                        cv2.rectangle(img, tuple(rect[:2]), tuple(rect[2:]), (0, 0, 255), 1)\n",
    "                    cv2.imwrite(bbox_img_path, img)\n",
    "                    if cv2.waitKey(1) & 0xFF == ord('q'):\n",
    "                        break\n",
    "                    \n",
    "                # Write to file\n",
    "                print('output_path',output_path)\n",
    "                with open(output_path, 'wb') as f:\n",
    "                    pickle.dump(det_filtered.flatten(), f)\n",
    "                    \n",
    "        torch.set_default_tensor_type('torch.FloatTensor')   \n",
    "            \n",
    "        \n",
    "def set_device(gpus=None, use_cuda=True, silence=False):\n",
    "    use_cuda = torch.cuda.is_available() if use_cuda else use_cuda\n",
    "    if use_cuda:\n",
    "        gpus = list(range(torch.cuda.device_count())) if not gpus else gpus\n",
    "        if not silence:\n",
    "            print('=> using GPU devices: {}'.format(', '.join(map(str, gpus))))\n",
    "    else:\n",
    "        gpus = None\n",
    "        if not silence:\n",
    "            print('=> using CPU device')\n",
    "    device = torch.device('cuda:{}'.format(gpus[0])) if gpus else torch.device('cpu')\n",
    "\n",
    "    return device, gpus"
   ]
  },
  {
   "cell_type": "code",
   "execution_count": 9,
   "metadata": {},
   "outputs": [],
   "source": [
    "parser = argparse.ArgumentParser(description=__doc__, formatter_class=argparse.ArgumentDefaultsHelpFormatter,\n",
    "                                 parents=[base_parser])\n",
    "parser.add_argument('source', metavar='SOURCE', nargs='+',\n",
    "                    help='image or video per source: files, directories, file lists or queries')\n",
    "parser.add_argument('-t', '--target', metavar='TARGET', nargs='+',\n",
    "                    help='video per target: files, directories, file lists or queries')\n",
    "parser.add_argument('-o', '--output', metavar='DIR',\n",
    "                    help='output directory')\n",
    "parser.add_argument('-ss', '--select_source', default='longest', metavar='STR',\n",
    "                    help='source selection method [\"longest\" | sequence number]')\n",
    "parser.add_argument('-st', '--select_target', default='longest', metavar='STR',\n",
    "                    help='target selection method [\"longest\" | sequence number]')\n",
    "parser.add_argument('-b', '--batch_size', default=8, type=int, metavar='N',\n",
    "                    help='mini-batch size')\n",
    "parser.add_argument('-rm', '--reenactment_model', metavar='PATH',\n",
    "                    default='../weights/nfv_msrunet_256_1_2_reenactment_v2.1.pth', help='reenactment model')\n",
    "parser.add_argument('-cm', '--completion_model', default='../weights/ijbc_msrunet_256_1_2_inpainting_v2.pth',\n",
    "                    metavar='PATH', help='completion model')\n",
    "parser.add_argument('-bm', '--blending_model', default='../weights/ijbc_msrunet_256_1_2_blending_v2.pth',\n",
    "                    metavar='PATH', help='blending model')\n",
    "parser.add_argument('-ci', '--criterion_id', default=\"vgg_loss.VGGLoss('../weights/vggface2_vgg19_256_1_2_id.pth')\",\n",
    "                    metavar='OBJ', help='id criterion object')\n",
    "parser.add_argument('-mr', '--min_radius', default=2.0, type=float, metavar='F',\n",
    "                    help='minimum distance between points in the appearance map')\n",
    "parser.add_argument('-oc', '--output_crop', action='store_true',\n",
    "                    help='output crop around the face instead of full frame')\n",
    "parser.add_argument('-rp', '--renderer_process', action='store_true',\n",
    "                    help='If True, the renderer will be run in a separate process')\n",
    "\n",
    "finetune = parser.add_argument_group('finetune')\n",
    "finetune.add_argument('-f', '--finetune', action='store_true',\n",
    "                      help='Toggle whether to finetune the reenactment generator (default: False)')\n",
    "finetune.add_argument('-fi', '--finetune_iterations', default=800, type=int, metavar='N',\n",
    "                      help='number of finetune iterations')\n",
    "finetune.add_argument('-fl', '--finetune_lr', default=1e-4, type=float, metavar='F',\n",
    "                      help='finetune learning rate')\n",
    "finetune.add_argument('-fb', '--finetune_batch_size', default=4, type=int, metavar='N',\n",
    "                      help='finetune batch size')\n",
    "finetune.add_argument('-fw', '--finetune_workers', default=4, type=int, metavar='N',\n",
    "                      help='finetune workers')\n",
    "finetune.add_argument('-fs', '--finetune_save', action='store_true',\n",
    "                      help='enable saving finetune checkpoint')\n",
    "d = parser.get_default"
   ]
  },
  {
   "cell_type": "code",
   "execution_count": 10,
   "metadata": {},
   "outputs": [],
   "source": [
    "class FaceData(object):\n",
    "    def __init__(self, resolution=d('resolution'), crop_scale=d('crop_scale'), gpus=d('gpus'),\n",
    "        cpu_only=d('cpu_only'), display=d('display'), verbose=d('verbose'), encoder_codec=d('encoder_codec'),\n",
    "        # Detection arguments:\n",
    "        detection_model=d('detection_model'), det_batch_size=d('det_batch_size'), det_postfix=d('det_postfix'),\n",
    "        # Sequence arguments:\n",
    "        iou_thresh=d('iou_thresh'), min_length=d('min_length'), min_size=d('min_size'),\n",
    "        center_kernel=d('center_kernel'), size_kernel=d('size_kernel'), smooth_det=d('smooth_det'),\n",
    "        seq_postfix=d('seq_postfix'), write_empty=d('write_empty'),\n",
    "        # Pose arguments:\n",
    "        pose_model=d('pose_model'), pose_batch_size=d('pose_batch_size'), pose_postfix=d('pose_postfix'),\n",
    "        cache_pose=d('cache_pose'), cache_frontal=d('cache_frontal'), smooth_poses=d('smooth_poses'),\n",
    "        # Landmarks arguments:\n",
    "        lms_model=d('lms_model'), lms_batch_size=d('lms_batch_size'), landmarks_postfix=d('landmarks_postfix'),\n",
    "        cache_landmarks=d('cache_landmarks'), smooth_landmarks=d('smooth_landmarks'),\n",
    "        # Segmentation arguments:\n",
    "        seg_model=d('seg_model'), smooth_segmentation=d('smooth_segmentation'),\n",
    "        segmentation_postfix=d('segmentation_postfix'), cache_segmentation=d('cache_segmentation'),\n",
    "        seg_batch_size=d('seg_batch_size'), seg_remove_mouth=d('seg_remove_mouth'),\n",
    "        # Swapping arguments:\n",
    "        batch_size=d('batch_size'), reenactment_model=d('reenactment_model'), completion_model=d('completion_model'),\n",
    "        blending_model=d('blending_model'), criterion_id=d('criterion_id'), min_radius=d('min_radius'),\n",
    "        output_crop=d('output_crop'), renderer_process=d('renderer_process'),\n",
    "        # BBOX\n",
    "        dataset_path='/',bbox_batch_size=1):\n",
    "        self.batch_size = batch_size\n",
    "        self.min_radius = min_radius\n",
    "        self.output_crop = output_crop\n",
    "        \n",
    "        # General\n",
    "        self.resolution = resolution\n",
    "        self.crop_scale = crop_scale\n",
    "        self.display = display\n",
    "        self.verbose = verbose\n",
    "        self.batch_size = batch_size\n",
    "\n",
    "        # Detection\n",
    "        self.dataset_path = dataset_path\n",
    "        self.image_detector = imagesDetector(dataset_path, det_postfix, detection_model, gpus, bbox_batch_size)\n",
    "        self.det_postfix = det_postfix\n",
    "        \n",
    "        # Initialize device\n",
    "        torch.set_grad_enabled(False)\n",
    "        self.device, self.gpus = set_device(gpus, not cpu_only)\n",
    "\n",
    "    def __del__(self):\n",
    "        if hasattr(self, 'video_renderer'):\n",
    "            self.video_renderer.kill()\n",
    "\n",
    "    def detect_faces(self, output_dir=None,select_source='longest'):\n",
    "        input_path = self.dataset_path\n",
    "        if output_dir is None:\n",
    "            output_dir = os.path.splitext(input_path)[0]\n",
    "            output_dir = output_dir[:-1]+'_bbox' if output_dir[-1] == '/' else output_dir+'_bbox'\n",
    "       \n",
    "        # Create directory\n",
    "        if not os.path.isdir(output_dir):\n",
    "            os.mkdir(output_dir)\n",
    "\n",
    "        # Face detection\n",
    "        self.image_detector(input_path, output_dir)\n",
    "        \n",
    "        "
   ]
  },
  {
   "cell_type": "code",
   "execution_count": 14,
   "metadata": {},
   "outputs": [
    {
     "name": "stdout",
     "output_type": "stream",
     "text": [
      "=> using GPU devices: 0\n"
     ]
    }
   ],
   "source": [
    "dataset_path = '/home/ec2-user/SageMaker/datasets/frontal_faces/frontal01/'\n",
    "face_swapping = FaceData(\n",
    "    detection_model=detection_model, pose_model=pose_model, lms_model=lms_model,\n",
    "    seg_model=seg_model, reenactment_model=reenactment_model,\n",
    "    completion_model=completion_model, blending_model=blending_model,\n",
    "    criterion_id=criterion_id,\n",
    "    seg_remove_mouth=finetune_iterations, batch_size=16, seg_batch_size=48,\n",
    "    encoder_codec='mp4v',dataset_path=dataset_path,bbox_batch_size=1)"
   ]
  },
  {
   "cell_type": "code",
   "execution_count": null,
   "metadata": {},
   "outputs": [
    {
     "name": "stderr",
     "output_type": "stream",
     "text": [
      "\n",
      "  0%|          | 0/344 [00:00<?, ?it/s]\u001b[A"
     ]
    },
    {
     "name": "stdout",
     "output_type": "stream",
     "text": [
      "output output_dir /home/ec2-user/SageMaker/datasets/frontal_faces/frontal01_bbox\n"
     ]
    },
    {
     "name": "stderr",
     "output_type": "stream",
     "text": [
      "\n",
      "  0%|          | 1/344 [00:06<36:19,  6.36s/it]\u001b[A"
     ]
    },
    {
     "name": "stdout",
     "output_type": "stream",
     "text": [
      "detection time 6.165854454040527\n",
      "output_path /home/ec2-user/SageMaker/datasets/frontal_faces/frontal01_bbox/000150_bbox.pkl\n"
     ]
    },
    {
     "name": "stderr",
     "output_type": "stream",
     "text": [
      "\n",
      "  1%|          | 2/344 [00:07<26:52,  4.72s/it]\u001b[A"
     ]
    },
    {
     "name": "stdout",
     "output_type": "stream",
     "text": [
      "detection time 0.851992130279541\n",
      "output_path /home/ec2-user/SageMaker/datasets/frontal_faces/frontal01_bbox/000184_bbox.pkl\n"
     ]
    },
    {
     "name": "stderr",
     "output_type": "stream",
     "text": [
      "\n",
      "  1%|          | 3/344 [00:08<20:33,  3.62s/it]\u001b[A"
     ]
    },
    {
     "name": "stdout",
     "output_type": "stream",
     "text": [
      "detection time 1.0037548542022705\n",
      "output_path /home/ec2-user/SageMaker/datasets/frontal_faces/frontal01_bbox/000152_bbox.pkl\n"
     ]
    },
    {
     "name": "stderr",
     "output_type": "stream",
     "text": [
      "\n",
      "  1%|          | 4/344 [00:08<15:30,  2.74s/it]\u001b[A"
     ]
    },
    {
     "name": "stdout",
     "output_type": "stream",
     "text": [
      "detection time 0.6560521125793457\n",
      "output_path /home/ec2-user/SageMaker/datasets/frontal_faces/frontal01_bbox/000259_bbox.pkl\n"
     ]
    },
    {
     "name": "stderr",
     "output_type": "stream",
     "text": [
      "\n",
      "  1%|▏         | 5/344 [00:12<17:24,  3.08s/it]\u001b[A"
     ]
    },
    {
     "name": "stdout",
     "output_type": "stream",
     "text": [
      "detection time 3.6932146549224854\n",
      "output_path /home/ec2-user/SageMaker/datasets/frontal_faces/frontal01_bbox/000053_bbox.pkl\n"
     ]
    },
    {
     "name": "stderr",
     "output_type": "stream",
     "text": [
      "\n",
      "  2%|▏         | 6/344 [00:18<22:22,  3.97s/it]\u001b[A"
     ]
    },
    {
     "name": "stdout",
     "output_type": "stream",
     "text": [
      "detection time 5.741474866867065\n",
      "output_path /home/ec2-user/SageMaker/datasets/frontal_faces/frontal01_bbox/000163_bbox.pkl\n"
     ]
    },
    {
     "name": "stderr",
     "output_type": "stream",
     "text": [
      "\n",
      "  2%|▏         | 7/344 [00:22<21:18,  3.79s/it]\u001b[A"
     ]
    },
    {
     "name": "stdout",
     "output_type": "stream",
     "text": [
      "detection time 3.147972822189331\n",
      "output_path /home/ec2-user/SageMaker/datasets/frontal_faces/frontal01_bbox/000305_bbox.pkl\n"
     ]
    },
    {
     "name": "stderr",
     "output_type": "stream",
     "text": [
      "\n",
      "  2%|▏         | 8/344 [00:23<17:08,  3.06s/it]\u001b[A"
     ]
    },
    {
     "name": "stdout",
     "output_type": "stream",
     "text": [
      "detection time 1.2834436893463135\n",
      "output_path /home/ec2-user/SageMaker/datasets/frontal_faces/frontal01_bbox/000317_bbox.pkl\n"
     ]
    },
    {
     "name": "stderr",
     "output_type": "stream",
     "text": [
      "\n",
      "  3%|▎         | 9/344 [00:25<14:44,  2.64s/it]\u001b[A"
     ]
    },
    {
     "name": "stdout",
     "output_type": "stream",
     "text": [
      "detection time 1.6036403179168701\n",
      "output_path /home/ec2-user/SageMaker/datasets/frontal_faces/frontal01_bbox/000341_bbox.pkl\n"
     ]
    },
    {
     "name": "stderr",
     "output_type": "stream",
     "text": [
      "\n",
      "  3%|▎         | 10/344 [00:26<12:18,  2.21s/it]\u001b[A"
     ]
    },
    {
     "name": "stdout",
     "output_type": "stream",
     "text": [
      "detection time 1.1603450775146484\n",
      "output_path /home/ec2-user/SageMaker/datasets/frontal_faces/frontal01_bbox/000015_bbox.pkl\n"
     ]
    },
    {
     "name": "stderr",
     "output_type": "stream",
     "text": [
      "\n",
      "  3%|▎         | 11/344 [00:30<15:59,  2.88s/it]\u001b[A"
     ]
    },
    {
     "name": "stdout",
     "output_type": "stream",
     "text": [
      "detection time 4.251906156539917\n",
      "output_path /home/ec2-user/SageMaker/datasets/frontal_faces/frontal01_bbox/000339_bbox.pkl\n"
     ]
    },
    {
     "name": "stderr",
     "output_type": "stream",
     "text": [
      "\n",
      "  3%|▎         | 12/344 [00:33<15:55,  2.88s/it]\u001b[A"
     ]
    },
    {
     "name": "stdout",
     "output_type": "stream",
     "text": [
      "detection time 2.7334046363830566\n",
      "output_path /home/ec2-user/SageMaker/datasets/frontal_faces/frontal01_bbox/000135_bbox.pkl\n"
     ]
    },
    {
     "name": "stderr",
     "output_type": "stream",
     "text": [
      "\n",
      "  4%|▍         | 13/344 [00:34<12:21,  2.24s/it]\u001b[A"
     ]
    },
    {
     "name": "stdout",
     "output_type": "stream",
     "text": [
      "detection time 0.7153189182281494\n",
      "output_path /home/ec2-user/SageMaker/datasets/frontal_faces/frontal01_bbox/000249_bbox.pkl\n"
     ]
    },
    {
     "name": "stderr",
     "output_type": "stream",
     "text": [
      "\n",
      "  4%|▍         | 14/344 [00:35<09:55,  1.80s/it]\u001b[A"
     ]
    },
    {
     "name": "stdout",
     "output_type": "stream",
     "text": [
      "detection time 0.7388458251953125\n",
      "output_path /home/ec2-user/SageMaker/datasets/frontal_faces/frontal01_bbox/000233_bbox.pkl\n"
     ]
    },
    {
     "name": "stderr",
     "output_type": "stream",
     "text": [
      "\n",
      "  4%|▍         | 15/344 [00:37<10:32,  1.92s/it]\u001b[A"
     ]
    },
    {
     "name": "stdout",
     "output_type": "stream",
     "text": [
      "detection time 2.0862531661987305\n",
      "output_path /home/ec2-user/SageMaker/datasets/frontal_faces/frontal01_bbox/000027_bbox.pkl\n"
     ]
    },
    {
     "name": "stderr",
     "output_type": "stream",
     "text": [
      "\n",
      "  5%|▍         | 16/344 [00:38<08:37,  1.58s/it]\u001b[A"
     ]
    },
    {
     "name": "stdout",
     "output_type": "stream",
     "text": [
      "detection time 0.7315480709075928\n",
      "output_path /home/ec2-user/SageMaker/datasets/frontal_faces/frontal01_bbox/000205_bbox.pkl\n"
     ]
    },
    {
     "name": "stderr",
     "output_type": "stream",
     "text": [
      "\n",
      "  5%|▍         | 17/344 [00:39<07:43,  1.42s/it]\u001b[A"
     ]
    },
    {
     "name": "stdout",
     "output_type": "stream",
     "text": [
      "detection time 0.9847333431243896\n",
      "output_path /home/ec2-user/SageMaker/datasets/frontal_faces/frontal01_bbox/000224_bbox.pkl\n"
     ]
    },
    {
     "name": "stderr",
     "output_type": "stream",
     "text": [
      "\n",
      "  5%|▌         | 18/344 [00:40<06:36,  1.22s/it]\u001b[A"
     ]
    },
    {
     "name": "stdout",
     "output_type": "stream",
     "text": [
      "detection time 0.717343807220459\n",
      "output_path /home/ec2-user/SageMaker/datasets/frontal_faces/frontal01_bbox/000213_bbox.pkl\n"
     ]
    },
    {
     "name": "stderr",
     "output_type": "stream",
     "text": [
      "\n",
      "  6%|▌         | 19/344 [00:41<06:04,  1.12s/it]\u001b[A"
     ]
    },
    {
     "name": "stdout",
     "output_type": "stream",
     "text": [
      "detection time 0.8475561141967773\n",
      "output_path /home/ec2-user/SageMaker/datasets/frontal_faces/frontal01_bbox/000094_bbox.pkl\n"
     ]
    },
    {
     "name": "stderr",
     "output_type": "stream",
     "text": [
      "\n",
      "  6%|▌         | 20/344 [00:46<13:14,  2.45s/it]\u001b[A"
     ]
    },
    {
     "name": "stdout",
     "output_type": "stream",
     "text": [
      "detection time 5.27533221244812\n",
      "output_path /home/ec2-user/SageMaker/datasets/frontal_faces/frontal01_bbox/000222_bbox.pkl\n"
     ]
    },
    {
     "name": "stderr",
     "output_type": "stream",
     "text": [
      "\n",
      "  6%|▌         | 21/344 [00:47<10:39,  1.98s/it]\u001b[A"
     ]
    },
    {
     "name": "stdout",
     "output_type": "stream",
     "text": [
      "detection time 0.8291933536529541\n",
      "output_path /home/ec2-user/SageMaker/datasets/frontal_faces/frontal01_bbox/000323_bbox.pkl\n"
     ]
    },
    {
     "name": "stderr",
     "output_type": "stream",
     "text": [
      "\n",
      "  6%|▋         | 22/344 [00:54<19:25,  3.62s/it]\u001b[A"
     ]
    },
    {
     "name": "stdout",
     "output_type": "stream",
     "text": [
      "detection time 7.131901264190674\n",
      "output_path /home/ec2-user/SageMaker/datasets/frontal_faces/frontal01_bbox/000097_bbox.pkl\n"
     ]
    },
    {
     "name": "stderr",
     "output_type": "stream",
     "text": [
      "\n",
      "  7%|▋         | 23/344 [00:56<15:47,  2.95s/it]\u001b[A"
     ]
    },
    {
     "name": "stdout",
     "output_type": "stream",
     "text": [
      "detection time 1.3082611560821533\n",
      "output_path /home/ec2-user/SageMaker/datasets/frontal_faces/frontal01_bbox/000313_bbox.pkl\n"
     ]
    },
    {
     "name": "stderr",
     "output_type": "stream",
     "text": [
      "\n",
      "  7%|▋         | 24/344 [00:58<14:12,  2.66s/it]\u001b[A"
     ]
    },
    {
     "name": "stdout",
     "output_type": "stream",
     "text": [
      "detection time 1.8786251544952393\n",
      "output_path /home/ec2-user/SageMaker/datasets/frontal_faces/frontal01_bbox/000069_bbox.pkl\n"
     ]
    },
    {
     "name": "stderr",
     "output_type": "stream",
     "text": [
      "\n",
      "  7%|▋         | 25/344 [00:59<11:15,  2.12s/it]\u001b[A"
     ]
    },
    {
     "name": "stdout",
     "output_type": "stream",
     "text": [
      "detection time 0.8009147644042969\n",
      "output_path /home/ec2-user/SageMaker/datasets/frontal_faces/frontal01_bbox/000105_bbox.pkl\n"
     ]
    },
    {
     "name": "stderr",
     "output_type": "stream",
     "text": [
      "\n",
      "  8%|▊         | 26/344 [01:00<09:42,  1.83s/it]\u001b[A"
     ]
    },
    {
     "name": "stdout",
     "output_type": "stream",
     "text": [
      "detection time 1.1105637550354004\n",
      "output_path /home/ec2-user/SageMaker/datasets/frontal_faces/frontal01_bbox/000043_bbox.pkl\n"
     ]
    },
    {
     "name": "stderr",
     "output_type": "stream",
     "text": [
      "\n",
      "  8%|▊         | 27/344 [01:01<08:16,  1.57s/it]\u001b[A"
     ]
    },
    {
     "name": "stdout",
     "output_type": "stream",
     "text": [
      "detection time 0.9016141891479492\n",
      "output_path /home/ec2-user/SageMaker/datasets/frontal_faces/frontal01_bbox/000332_bbox.pkl\n"
     ]
    },
    {
     "name": "stderr",
     "output_type": "stream",
     "text": [
      "\n",
      "  8%|▊         | 28/344 [01:02<08:00,  1.52s/it]\u001b[A"
     ]
    },
    {
     "name": "stdout",
     "output_type": "stream",
     "text": [
      "detection time 1.3646011352539062\n",
      "output_path /home/ec2-user/SageMaker/datasets/frontal_faces/frontal01_bbox/000315_bbox.pkl\n"
     ]
    },
    {
     "name": "stderr",
     "output_type": "stream",
     "text": [
      "\n",
      "  8%|▊         | 29/344 [01:03<06:34,  1.25s/it]\u001b[A"
     ]
    },
    {
     "name": "stdout",
     "output_type": "stream",
     "text": [
      "detection time 0.5969412326812744\n",
      "output_path /home/ec2-user/SageMaker/datasets/frontal_faces/frontal01_bbox/000038_bbox.pkl\n"
     ]
    },
    {
     "name": "stderr",
     "output_type": "stream",
     "text": [
      "\n",
      "  9%|▊         | 30/344 [01:04<06:10,  1.18s/it]\u001b[A"
     ]
    },
    {
     "name": "stdout",
     "output_type": "stream",
     "text": [
      "detection time 0.9506070613861084\n",
      "output_path /home/ec2-user/SageMaker/datasets/frontal_faces/frontal01_bbox/000178_bbox.pkl\n"
     ]
    },
    {
     "name": "stderr",
     "output_type": "stream",
     "text": [
      "\n",
      "  9%|▉         | 31/344 [01:05<05:43,  1.10s/it]\u001b[A"
     ]
    },
    {
     "name": "stdout",
     "output_type": "stream",
     "text": [
      "detection time 0.8695981502532959\n",
      "output_path /home/ec2-user/SageMaker/datasets/frontal_faces/frontal01_bbox/000324_bbox.pkl\n"
     ]
    },
    {
     "name": "stderr",
     "output_type": "stream",
     "text": [
      "\n",
      "  9%|▉         | 32/344 [01:06<05:35,  1.08s/it]\u001b[A"
     ]
    },
    {
     "name": "stdout",
     "output_type": "stream",
     "text": [
      "detection time 0.9665501117706299\n",
      "output_path /home/ec2-user/SageMaker/datasets/frontal_faces/frontal01_bbox/000004_bbox.pkl\n"
     ]
    },
    {
     "name": "stderr",
     "output_type": "stream",
     "text": [
      "\n",
      " 10%|▉         | 33/344 [01:08<06:44,  1.30s/it]\u001b[A"
     ]
    },
    {
     "name": "stdout",
     "output_type": "stream",
     "text": [
      "detection time 1.7549159526824951\n",
      "output_path /home/ec2-user/SageMaker/datasets/frontal_faces/frontal01_bbox/000070_bbox.pkl\n"
     ]
    },
    {
     "name": "stderr",
     "output_type": "stream",
     "text": [
      "\n",
      " 10%|▉         | 34/344 [01:08<06:08,  1.19s/it]\u001b[A"
     ]
    },
    {
     "name": "stdout",
     "output_type": "stream",
     "text": [
      "detection time 0.882936954498291\n",
      "output_path /home/ec2-user/SageMaker/datasets/frontal_faces/frontal01_bbox/000336_bbox.pkl\n"
     ]
    },
    {
     "name": "stderr",
     "output_type": "stream",
     "text": [
      "\n",
      " 10%|█         | 35/344 [01:10<05:51,  1.14s/it]\u001b[A"
     ]
    },
    {
     "name": "stdout",
     "output_type": "stream",
     "text": [
      "detection time 0.962677001953125\n",
      "output_path /home/ec2-user/SageMaker/datasets/frontal_faces/frontal01_bbox/000071_bbox.pkl\n"
     ]
    },
    {
     "name": "stderr",
     "output_type": "stream",
     "text": [
      "\n",
      " 10%|█         | 36/344 [01:11<05:40,  1.11s/it]\u001b[A"
     ]
    },
    {
     "name": "stdout",
     "output_type": "stream",
     "text": [
      "detection time 0.9877674579620361\n",
      "output_path /home/ec2-user/SageMaker/datasets/frontal_faces/frontal01_bbox/000227_bbox.pkl\n"
     ]
    },
    {
     "name": "stderr",
     "output_type": "stream",
     "text": [
      "\n",
      " 11%|█         | 37/344 [01:12<06:08,  1.20s/it]\u001b[A"
     ]
    },
    {
     "name": "stdout",
     "output_type": "stream",
     "text": [
      "detection time 1.3640425205230713\n",
      "output_path /home/ec2-user/SageMaker/datasets/frontal_faces/frontal01_bbox/000137_bbox.pkl\n"
     ]
    },
    {
     "name": "stderr",
     "output_type": "stream",
     "text": [
      "\n",
      " 11%|█         | 38/344 [01:14<07:13,  1.42s/it]\u001b[A"
     ]
    },
    {
     "name": "stdout",
     "output_type": "stream",
     "text": [
      "detection time 1.8386645317077637\n",
      "output_path /home/ec2-user/SageMaker/datasets/frontal_faces/frontal01_bbox/000091_bbox.pkl\n"
     ]
    },
    {
     "name": "stderr",
     "output_type": "stream",
     "text": [
      "\n",
      " 11%|█▏        | 39/344 [01:15<06:57,  1.37s/it]\u001b[A"
     ]
    },
    {
     "name": "stdout",
     "output_type": "stream",
     "text": [
      "detection time 1.2151637077331543\n",
      "output_path /home/ec2-user/SageMaker/datasets/frontal_faces/frontal01_bbox/000192_bbox.pkl\n"
     ]
    },
    {
     "name": "stderr",
     "output_type": "stream",
     "text": [
      "\n",
      " 12%|█▏        | 40/344 [01:17<06:56,  1.37s/it]\u001b[A"
     ]
    },
    {
     "name": "stdout",
     "output_type": "stream",
     "text": [
      "detection time 1.2899177074432373\n",
      "output_path /home/ec2-user/SageMaker/datasets/frontal_faces/frontal01_bbox/000044_bbox.pkl\n"
     ]
    },
    {
     "name": "stderr",
     "output_type": "stream",
     "text": [
      "\n",
      " 12%|█▏        | 41/344 [01:17<05:40,  1.12s/it]\u001b[A"
     ]
    },
    {
     "name": "stdout",
     "output_type": "stream",
     "text": [
      "detection time 0.5214700698852539\n",
      "output_path /home/ec2-user/SageMaker/datasets/frontal_faces/frontal01_bbox/000319_bbox.pkl\n"
     ]
    },
    {
     "name": "stderr",
     "output_type": "stream",
     "text": [
      "\n",
      " 12%|█▏        | 42/344 [01:18<05:29,  1.09s/it]\u001b[A\n",
      " 12%|█▎        | 43/344 [01:18<04:03,  1.24it/s]\u001b[A"
     ]
    },
    {
     "name": "stdout",
     "output_type": "stream",
     "text": [
      "detection time 0.962338924407959\n",
      "output_path /home/ec2-user/SageMaker/datasets/frontal_faces/frontal01_bbox/000190_bbox.pkl\n",
      "detection time 0.14264321327209473\n",
      "output_path /home/ec2-user/SageMaker/datasets/frontal_faces/frontal01_bbox/000149_bbox.pkl\n"
     ]
    },
    {
     "name": "stderr",
     "output_type": "stream",
     "text": [
      "\n",
      " 13%|█▎        | 44/344 [01:19<04:33,  1.10it/s]\u001b[A"
     ]
    },
    {
     "name": "stdout",
     "output_type": "stream",
     "text": [
      "detection time 1.1009790897369385\n",
      "output_path /home/ec2-user/SageMaker/datasets/frontal_faces/frontal01_bbox/000280_bbox.pkl\n"
     ]
    },
    {
     "name": "stderr",
     "output_type": "stream",
     "text": [
      "\n",
      " 13%|█▎        | 45/344 [01:21<05:54,  1.19s/it]\u001b[A"
     ]
    },
    {
     "name": "stdout",
     "output_type": "stream",
     "text": [
      "detection time 1.7485747337341309\n",
      "output_path /home/ec2-user/SageMaker/datasets/frontal_faces/frontal01_bbox/000188_bbox.pkl\n"
     ]
    },
    {
     "name": "stderr",
     "output_type": "stream",
     "text": [
      "\n",
      " 13%|█▎        | 46/344 [01:22<05:31,  1.11s/it]\u001b[A"
     ]
    },
    {
     "name": "stdout",
     "output_type": "stream",
     "text": [
      "detection time 0.8862450122833252\n",
      "output_path /home/ec2-user/SageMaker/datasets/frontal_faces/frontal01_bbox/000186_bbox.pkl\n"
     ]
    },
    {
     "name": "stderr",
     "output_type": "stream",
     "text": [
      "\n",
      " 14%|█▎        | 47/344 [01:24<06:40,  1.35s/it]\u001b[A"
     ]
    },
    {
     "name": "stdout",
     "output_type": "stream",
     "text": [
      "detection time 1.8240063190460205\n",
      "output_path /home/ec2-user/SageMaker/datasets/frontal_faces/frontal01_bbox/000203_bbox.pkl\n"
     ]
    },
    {
     "name": "stderr",
     "output_type": "stream",
     "text": [
      "\n",
      " 14%|█▍        | 48/344 [01:26<06:59,  1.42s/it]\u001b[A"
     ]
    },
    {
     "name": "stdout",
     "output_type": "stream",
     "text": [
      "detection time 1.493640422821045\n",
      "output_path /home/ec2-user/SageMaker/datasets/frontal_faces/frontal01_bbox/000030_bbox.pkl\n"
     ]
    },
    {
     "name": "stderr",
     "output_type": "stream",
     "text": [
      "\n",
      " 14%|█▍        | 49/344 [01:27<07:05,  1.44s/it]\u001b[A"
     ]
    },
    {
     "name": "stdout",
     "output_type": "stream",
     "text": [
      "detection time 1.4374268054962158\n",
      "output_path /home/ec2-user/SageMaker/datasets/frontal_faces/frontal01_bbox/000168_bbox.pkl\n"
     ]
    },
    {
     "name": "stderr",
     "output_type": "stream",
     "text": [
      "\n",
      " 15%|█▍        | 50/344 [01:29<07:02,  1.44s/it]\u001b[A"
     ]
    },
    {
     "name": "stdout",
     "output_type": "stream",
     "text": [
      "detection time 1.3695995807647705\n",
      "output_path /home/ec2-user/SageMaker/datasets/frontal_faces/frontal01_bbox/000175_bbox.pkl\n"
     ]
    },
    {
     "name": "stderr",
     "output_type": "stream",
     "text": [
      "\n",
      " 15%|█▍        | 51/344 [01:30<06:29,  1.33s/it]\u001b[A"
     ]
    },
    {
     "name": "stdout",
     "output_type": "stream",
     "text": [
      "detection time 1.0250380039215088\n",
      "output_path /home/ec2-user/SageMaker/datasets/frontal_faces/frontal01_bbox/000162_bbox.pkl\n"
     ]
    },
    {
     "name": "stderr",
     "output_type": "stream",
     "text": [
      "\n",
      " 15%|█▌        | 52/344 [01:31<06:00,  1.23s/it]\u001b[A"
     ]
    },
    {
     "name": "stdout",
     "output_type": "stream",
     "text": [
      "detection time 0.9667341709136963\n",
      "output_path /home/ec2-user/SageMaker/datasets/frontal_faces/frontal01_bbox/000179_bbox.pkl\n"
     ]
    },
    {
     "name": "stderr",
     "output_type": "stream",
     "text": [
      "\n",
      " 15%|█▌        | 53/344 [01:32<06:14,  1.29s/it]\u001b[A"
     ]
    },
    {
     "name": "stdout",
     "output_type": "stream",
     "text": [
      "detection time 1.3443238735198975\n",
      "output_path /home/ec2-user/SageMaker/datasets/frontal_faces/frontal01_bbox/000286_bbox.pkl\n"
     ]
    },
    {
     "name": "stderr",
     "output_type": "stream",
     "text": [
      "\n",
      " 16%|█▌        | 54/344 [01:33<05:46,  1.20s/it]\u001b[A"
     ]
    },
    {
     "name": "stdout",
     "output_type": "stream",
     "text": [
      "detection time 0.9300267696380615\n",
      "output_path /home/ec2-user/SageMaker/datasets/frontal_faces/frontal01_bbox/000314_bbox.pkl\n"
     ]
    },
    {
     "name": "stderr",
     "output_type": "stream",
     "text": [
      "\n",
      " 16%|█▌        | 55/344 [01:37<10:03,  2.09s/it]\u001b[A"
     ]
    },
    {
     "name": "stdout",
     "output_type": "stream",
     "text": [
      "detection time 3.9505574703216553\n",
      "output_path /home/ec2-user/SageMaker/datasets/frontal_faces/frontal01_bbox/000246_bbox.pkl\n"
     ]
    },
    {
     "name": "stderr",
     "output_type": "stream",
     "text": [
      "\n",
      " 16%|█▋        | 56/344 [01:39<09:25,  1.96s/it]\u001b[A"
     ]
    },
    {
     "name": "stdout",
     "output_type": "stream",
     "text": [
      "detection time 1.5926470756530762\n",
      "output_path /home/ec2-user/SageMaker/datasets/frontal_faces/frontal01_bbox/000252_bbox.pkl\n"
     ]
    },
    {
     "name": "stderr",
     "output_type": "stream",
     "text": [
      "\n",
      " 17%|█▋        | 57/344 [01:41<09:12,  1.92s/it]\u001b[A"
     ]
    },
    {
     "name": "stdout",
     "output_type": "stream",
     "text": [
      "detection time 1.7691826820373535\n",
      "output_path /home/ec2-user/SageMaker/datasets/frontal_faces/frontal01_bbox/000118_bbox.pkl\n"
     ]
    },
    {
     "name": "stderr",
     "output_type": "stream",
     "text": [
      "\n",
      " 17%|█▋        | 58/344 [01:41<07:18,  1.53s/it]\u001b[A"
     ]
    },
    {
     "name": "stdout",
     "output_type": "stream",
     "text": [
      "detection time 0.5825157165527344\n",
      "output_path /home/ec2-user/SageMaker/datasets/frontal_faces/frontal01_bbox/000208_bbox.pkl\n"
     ]
    },
    {
     "name": "stderr",
     "output_type": "stream",
     "text": [
      "\n",
      " 17%|█▋        | 59/344 [01:43<06:54,  1.45s/it]\u001b[A"
     ]
    },
    {
     "name": "stdout",
     "output_type": "stream",
     "text": [
      "detection time 1.2207896709442139\n",
      "output_path /home/ec2-user/SageMaker/datasets/frontal_faces/frontal01_bbox/000334_bbox.pkl\n"
     ]
    },
    {
     "name": "stderr",
     "output_type": "stream",
     "text": [
      "\n",
      " 17%|█▋        | 60/344 [01:50<15:23,  3.25s/it]\u001b[A"
     ]
    },
    {
     "name": "stdout",
     "output_type": "stream",
     "text": [
      "detection time 7.130159139633179\n",
      "output_path /home/ec2-user/SageMaker/datasets/frontal_faces/frontal01_bbox/000326_bbox.pkl\n"
     ]
    },
    {
     "name": "stderr",
     "output_type": "stream",
     "text": [
      "\n",
      " 18%|█▊        | 61/344 [01:51<12:10,  2.58s/it]\u001b[A"
     ]
    },
    {
     "name": "stdout",
     "output_type": "stream",
     "text": [
      "detection time 0.9566223621368408\n",
      "output_path /home/ec2-user/SageMaker/datasets/frontal_faces/frontal01_bbox/000180_bbox.pkl\n"
     ]
    },
    {
     "name": "stderr",
     "output_type": "stream",
     "text": [
      "\n",
      " 18%|█▊        | 62/344 [01:52<10:30,  2.24s/it]\u001b[A"
     ]
    },
    {
     "name": "stdout",
     "output_type": "stream",
     "text": [
      "detection time 1.3711421489715576\n",
      "output_path /home/ec2-user/SageMaker/datasets/frontal_faces/frontal01_bbox/000251_bbox.pkl\n"
     ]
    },
    {
     "name": "stderr",
     "output_type": "stream",
     "text": [
      "\n",
      " 18%|█▊        | 63/344 [01:53<08:27,  1.81s/it]\u001b[A"
     ]
    },
    {
     "name": "stdout",
     "output_type": "stream",
     "text": [
      "detection time 0.7663960456848145\n",
      "output_path /home/ec2-user/SageMaker/datasets/frontal_faces/frontal01_bbox/000328_bbox.pkl\n"
     ]
    },
    {
     "name": "stderr",
     "output_type": "stream",
     "text": [
      "\n",
      " 19%|█▊        | 64/344 [01:54<07:14,  1.55s/it]\u001b[A"
     ]
    },
    {
     "name": "stdout",
     "output_type": "stream",
     "text": [
      "detection time 0.9092273712158203\n",
      "output_path /home/ec2-user/SageMaker/datasets/frontal_faces/frontal01_bbox/000042_bbox.pkl\n"
     ]
    },
    {
     "name": "stderr",
     "output_type": "stream",
     "text": [
      "\n",
      " 19%|█▉        | 65/344 [01:56<07:08,  1.54s/it]\u001b[A"
     ]
    },
    {
     "name": "stdout",
     "output_type": "stream",
     "text": [
      "detection time 1.4442458152770996\n",
      "output_path /home/ec2-user/SageMaker/datasets/frontal_faces/frontal01_bbox/000320_bbox.pkl\n"
     ]
    },
    {
     "name": "stderr",
     "output_type": "stream",
     "text": [
      "\n",
      " 19%|█▉        | 66/344 [01:57<06:56,  1.50s/it]\u001b[A"
     ]
    },
    {
     "name": "stdout",
     "output_type": "stream",
     "text": [
      "detection time 1.2909986972808838\n",
      "output_path /home/ec2-user/SageMaker/datasets/frontal_faces/frontal01_bbox/000122_bbox.pkl\n"
     ]
    },
    {
     "name": "stderr",
     "output_type": "stream",
     "text": [
      "\n",
      " 19%|█▉        | 67/344 [01:58<06:16,  1.36s/it]\u001b[A"
     ]
    },
    {
     "name": "stdout",
     "output_type": "stream",
     "text": [
      "detection time 0.9864637851715088\n",
      "output_path /home/ec2-user/SageMaker/datasets/frontal_faces/frontal01_bbox/000134_bbox.pkl\n"
     ]
    },
    {
     "name": "stderr",
     "output_type": "stream",
     "text": [
      "\n",
      " 20%|█▉        | 68/344 [02:00<06:16,  1.37s/it]\u001b[A"
     ]
    },
    {
     "name": "stdout",
     "output_type": "stream",
     "text": [
      "detection time 1.3303279876708984\n",
      "output_path /home/ec2-user/SageMaker/datasets/frontal_faces/frontal01_bbox/000234_bbox.pkl\n"
     ]
    },
    {
     "name": "stderr",
     "output_type": "stream",
     "text": [
      "\n",
      " 20%|██        | 69/344 [02:01<06:28,  1.41s/it]\u001b[A"
     ]
    },
    {
     "name": "stdout",
     "output_type": "stream",
     "text": [
      "detection time 1.4530484676361084\n",
      "output_path /home/ec2-user/SageMaker/datasets/frontal_faces/frontal01_bbox/000293_bbox.pkl\n"
     ]
    },
    {
     "name": "stderr",
     "output_type": "stream",
     "text": [
      "\n",
      " 20%|██        | 70/344 [02:02<05:44,  1.26s/it]\u001b[A"
     ]
    },
    {
     "name": "stdout",
     "output_type": "stream",
     "text": [
      "detection time 0.8485097885131836\n",
      "output_path /home/ec2-user/SageMaker/datasets/frontal_faces/frontal01_bbox/000012_bbox.pkl\n"
     ]
    },
    {
     "name": "stderr",
     "output_type": "stream",
     "text": [
      "\n",
      " 21%|██        | 71/344 [02:03<05:53,  1.30s/it]\u001b[A"
     ]
    },
    {
     "name": "stdout",
     "output_type": "stream",
     "text": [
      "detection time 1.324173927307129\n",
      "output_path /home/ec2-user/SageMaker/datasets/frontal_faces/frontal01_bbox/000096_bbox.pkl\n"
     ]
    },
    {
     "name": "stderr",
     "output_type": "stream",
     "text": [
      "\n",
      " 21%|██        | 72/344 [02:05<06:05,  1.34s/it]\u001b[A"
     ]
    },
    {
     "name": "stdout",
     "output_type": "stream",
     "text": [
      "detection time 1.4014356136322021\n",
      "output_path /home/ec2-user/SageMaker/datasets/frontal_faces/frontal01_bbox/000049_bbox.pkl\n"
     ]
    },
    {
     "name": "stderr",
     "output_type": "stream",
     "text": [
      "\n",
      " 21%|██        | 73/344 [02:06<06:01,  1.33s/it]\u001b[A"
     ]
    },
    {
     "name": "stdout",
     "output_type": "stream",
     "text": [
      "detection time 1.2615840435028076\n",
      "output_path /home/ec2-user/SageMaker/datasets/frontal_faces/frontal01_bbox/000219_bbox.pkl\n"
     ]
    },
    {
     "name": "stderr",
     "output_type": "stream",
     "text": [
      "\n",
      " 22%|██▏       | 74/344 [02:07<05:32,  1.23s/it]\u001b[A"
     ]
    },
    {
     "name": "stdout",
     "output_type": "stream",
     "text": [
      "detection time 0.9343490600585938\n",
      "output_path /home/ec2-user/SageMaker/datasets/frontal_faces/frontal01_bbox/000200_bbox.pkl\n"
     ]
    },
    {
     "name": "stderr",
     "output_type": "stream",
     "text": [
      "\n",
      " 22%|██▏       | 75/344 [02:08<05:31,  1.23s/it]\u001b[A"
     ]
    },
    {
     "name": "stdout",
     "output_type": "stream",
     "text": [
      "detection time 1.1666319370269775\n",
      "output_path /home/ec2-user/SageMaker/datasets/frontal_faces/frontal01_bbox/000185_bbox.pkl\n"
     ]
    },
    {
     "name": "stderr",
     "output_type": "stream",
     "text": [
      "\n",
      " 22%|██▏       | 76/344 [02:14<10:56,  2.45s/it]\u001b[A"
     ]
    },
    {
     "name": "stdout",
     "output_type": "stream",
     "text": [
      "detection time 5.059566020965576\n",
      "output_path /home/ec2-user/SageMaker/datasets/frontal_faces/frontal01_bbox/000138_bbox.pkl\n"
     ]
    },
    {
     "name": "stderr",
     "output_type": "stream",
     "text": [
      "\n",
      " 22%|██▏       | 77/344 [02:14<08:15,  1.85s/it]\u001b[A"
     ]
    },
    {
     "name": "stdout",
     "output_type": "stream",
     "text": [
      "detection time 0.43644285202026367\n",
      "output_path /home/ec2-user/SageMaker/datasets/frontal_faces/frontal01_bbox/000169_bbox.pkl\n"
     ]
    },
    {
     "name": "stderr",
     "output_type": "stream",
     "text": [
      "\n",
      " 23%|██▎       | 78/344 [02:15<07:17,  1.65s/it]\u001b[A"
     ]
    },
    {
     "name": "stdout",
     "output_type": "stream",
     "text": [
      "detection time 1.1191580295562744\n",
      "output_path /home/ec2-user/SageMaker/datasets/frontal_faces/frontal01_bbox/000330_bbox.pkl\n"
     ]
    },
    {
     "name": "stderr",
     "output_type": "stream",
     "text": [
      "\n",
      " 23%|██▎       | 79/344 [02:17<06:49,  1.54s/it]\u001b[A"
     ]
    },
    {
     "name": "stdout",
     "output_type": "stream",
     "text": [
      "detection time 1.2548255920410156\n",
      "output_path /home/ec2-user/SageMaker/datasets/frontal_faces/frontal01_bbox/000110_bbox.pkl\n"
     ]
    },
    {
     "name": "stderr",
     "output_type": "stream",
     "text": [
      "\n",
      " 23%|██▎       | 80/344 [02:17<05:14,  1.19s/it]\u001b[A"
     ]
    },
    {
     "name": "stdout",
     "output_type": "stream",
     "text": [
      "detection time 0.3495011329650879\n",
      "output_path /home/ec2-user/SageMaker/datasets/frontal_faces/frontal01_bbox/000298_bbox.pkl\n"
     ]
    },
    {
     "name": "stderr",
     "output_type": "stream",
     "text": [
      "\n",
      " 24%|██▎       | 81/344 [02:18<04:57,  1.13s/it]\u001b[A"
     ]
    },
    {
     "name": "stdout",
     "output_type": "stream",
     "text": [
      "detection time 0.9489679336547852\n",
      "output_path /home/ec2-user/SageMaker/datasets/frontal_faces/frontal01_bbox/000242_bbox.pkl\n"
     ]
    },
    {
     "name": "stderr",
     "output_type": "stream",
     "text": [
      "\n",
      " 24%|██▍       | 82/344 [02:23<10:16,  2.35s/it]\u001b[A"
     ]
    },
    {
     "name": "stdout",
     "output_type": "stream",
     "text": [
      "detection time 4.987663984298706\n",
      "output_path /home/ec2-user/SageMaker/datasets/frontal_faces/frontal01_bbox/000109_bbox.pkl\n"
     ]
    },
    {
     "name": "stderr",
     "output_type": "stream",
     "text": [
      "\n",
      " 24%|██▍       | 83/344 [02:24<08:55,  2.05s/it]\u001b[A"
     ]
    },
    {
     "name": "stdout",
     "output_type": "stream",
     "text": [
      "detection time 1.276308298110962\n",
      "output_path /home/ec2-user/SageMaker/datasets/frontal_faces/frontal01_bbox/000217_bbox.pkl\n"
     ]
    },
    {
     "name": "stderr",
     "output_type": "stream",
     "text": [
      "\n",
      " 24%|██▍       | 84/344 [02:26<07:52,  1.82s/it]\u001b[A"
     ]
    },
    {
     "name": "stdout",
     "output_type": "stream",
     "text": [
      "detection time 1.2195768356323242\n",
      "output_path /home/ec2-user/SageMaker/datasets/frontal_faces/frontal01_bbox/000312_bbox.pkl\n"
     ]
    },
    {
     "name": "stderr",
     "output_type": "stream",
     "text": [
      "\n",
      " 25%|██▍       | 85/344 [02:27<07:06,  1.65s/it]\u001b[A"
     ]
    },
    {
     "name": "stdout",
     "output_type": "stream",
     "text": [
      "detection time 1.1913659572601318\n",
      "output_path /home/ec2-user/SageMaker/datasets/frontal_faces/frontal01_bbox/000039_bbox.pkl\n"
     ]
    },
    {
     "name": "stderr",
     "output_type": "stream",
     "text": [
      "\n",
      " 25%|██▌       | 86/344 [02:30<08:13,  1.91s/it]\u001b[A"
     ]
    },
    {
     "name": "stdout",
     "output_type": "stream",
     "text": [
      "detection time 2.4455716609954834\n",
      "output_path /home/ec2-user/SageMaker/datasets/frontal_faces/frontal01_bbox/000148_bbox.pkl\n"
     ]
    },
    {
     "name": "stderr",
     "output_type": "stream",
     "text": [
      "\n",
      " 25%|██▌       | 87/344 [02:31<07:25,  1.73s/it]\u001b[A"
     ]
    },
    {
     "name": "stdout",
     "output_type": "stream",
     "text": [
      "detection time 1.2429065704345703\n",
      "output_path /home/ec2-user/SageMaker/datasets/frontal_faces/frontal01_bbox/000331_bbox.pkl\n"
     ]
    },
    {
     "name": "stderr",
     "output_type": "stream",
     "text": [
      "\n",
      " 26%|██▌       | 88/344 [02:32<06:31,  1.53s/it]\u001b[A"
     ]
    },
    {
     "name": "stdout",
     "output_type": "stream",
     "text": [
      "detection time 0.996009111404419\n",
      "output_path /home/ec2-user/SageMaker/datasets/frontal_faces/frontal01_bbox/000074_bbox.pkl\n"
     ]
    },
    {
     "name": "stderr",
     "output_type": "stream",
     "text": [
      "\n",
      " 26%|██▌       | 89/344 [02:33<05:41,  1.34s/it]\u001b[A"
     ]
    },
    {
     "name": "stdout",
     "output_type": "stream",
     "text": [
      "detection time 0.8496925830841064\n",
      "output_path /home/ec2-user/SageMaker/datasets/frontal_faces/frontal01_bbox/000306_bbox.pkl\n"
     ]
    },
    {
     "name": "stderr",
     "output_type": "stream",
     "text": [
      "\n",
      " 26%|██▌       | 90/344 [02:40<13:00,  3.07s/it]\u001b[A"
     ]
    },
    {
     "name": "stdout",
     "output_type": "stream",
     "text": [
      "detection time 6.805781841278076\n",
      "output_path /home/ec2-user/SageMaker/datasets/frontal_faces/frontal01_bbox/000072_bbox.pkl\n"
     ]
    },
    {
     "name": "stderr",
     "output_type": "stream",
     "text": [
      "\n",
      " 26%|██▋       | 91/344 [02:41<10:24,  2.47s/it]\u001b[A"
     ]
    },
    {
     "name": "stdout",
     "output_type": "stream",
     "text": [
      "detection time 1.0011184215545654\n",
      "output_path /home/ec2-user/SageMaker/datasets/frontal_faces/frontal01_bbox/000303_bbox.pkl\n"
     ]
    },
    {
     "name": "stderr",
     "output_type": "stream",
     "text": [
      "\n",
      " 27%|██▋       | 92/344 [02:42<08:50,  2.11s/it]\u001b[A"
     ]
    },
    {
     "name": "stdout",
     "output_type": "stream",
     "text": [
      "detection time 1.2080187797546387\n",
      "output_path /home/ec2-user/SageMaker/datasets/frontal_faces/frontal01_bbox/000054_bbox.pkl\n"
     ]
    },
    {
     "name": "stderr",
     "output_type": "stream",
     "text": [
      "\n",
      " 27%|██▋       | 93/344 [02:44<08:02,  1.92s/it]\u001b[A"
     ]
    },
    {
     "name": "stdout",
     "output_type": "stream",
     "text": [
      "detection time 1.437162160873413\n",
      "output_path /home/ec2-user/SageMaker/datasets/frontal_faces/frontal01_bbox/000171_bbox.pkl\n"
     ]
    },
    {
     "name": "stderr",
     "output_type": "stream",
     "text": [
      "\n",
      " 27%|██▋       | 94/344 [02:45<07:23,  1.77s/it]\u001b[A"
     ]
    },
    {
     "name": "stdout",
     "output_type": "stream",
     "text": [
      "detection time 1.3673276901245117\n",
      "output_path /home/ec2-user/SageMaker/datasets/frontal_faces/frontal01_bbox/000262_bbox.pkl\n"
     ]
    },
    {
     "name": "stderr",
     "output_type": "stream",
     "text": [
      "\n",
      " 28%|██▊       | 95/344 [02:46<06:22,  1.53s/it]\u001b[A"
     ]
    },
    {
     "name": "stdout",
     "output_type": "stream",
     "text": [
      "detection time 0.9342889785766602\n",
      "output_path /home/ec2-user/SageMaker/datasets/frontal_faces/frontal01_bbox/000100_bbox.pkl\n"
     ]
    },
    {
     "name": "stderr",
     "output_type": "stream",
     "text": [
      "\n",
      " 28%|██▊       | 96/344 [02:48<06:08,  1.49s/it]\u001b[A"
     ]
    },
    {
     "name": "stdout",
     "output_type": "stream",
     "text": [
      "detection time 1.3246023654937744\n",
      "output_path /home/ec2-user/SageMaker/datasets/frontal_faces/frontal01_bbox/000102_bbox.pkl\n"
     ]
    },
    {
     "name": "stderr",
     "output_type": "stream",
     "text": [
      "\n",
      " 28%|██▊       | 97/344 [02:49<05:49,  1.42s/it]\u001b[A"
     ]
    },
    {
     "name": "stdout",
     "output_type": "stream",
     "text": [
      "detection time 1.2014317512512207\n",
      "output_path /home/ec2-user/SageMaker/datasets/frontal_faces/frontal01_bbox/000189_bbox.pkl\n"
     ]
    }
   ],
   "source": [
    "face_swapping.detect_faces()"
   ]
  },
  {
   "cell_type": "code",
   "execution_count": null,
   "metadata": {},
   "outputs": [],
   "source": []
  }
 ],
 "metadata": {
  "kernelspec": {
   "display_name": "conda_pytorch_latest_p36",
   "language": "python",
   "name": "conda_pytorch_latest_p36"
  },
  "language_info": {
   "codemirror_mode": {
    "name": "ipython",
    "version": 3
   },
   "file_extension": ".py",
   "mimetype": "text/x-python",
   "name": "python",
   "nbconvert_exporter": "python",
   "pygments_lexer": "ipython3",
   "version": "3.6.10"
  }
 },
 "nbformat": 4,
 "nbformat_minor": 4
}
